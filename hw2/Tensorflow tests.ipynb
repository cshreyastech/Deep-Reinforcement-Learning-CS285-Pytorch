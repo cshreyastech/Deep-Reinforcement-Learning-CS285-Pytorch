{
 "cells": [
  {
   "cell_type": "code",
   "execution_count": 1,
   "metadata": {},
   "outputs": [],
   "source": [
    "import tensorflow as tf\n",
    "\n",
    "def build_mlp(input_placeholder, output_size, scope, n_layers, size, activation=tf.tanh, output_activation=None):\n",
    "    \n",
    "    # TODO: GETTHIS from HW1\n",
    "    \"\"\"\n",
    "        Builds a feedforward neural network\n",
    "\n",
    "        arguments:\n",
    "            input_placeholder: placeholder variable for the state (batch_size, input_size)\n",
    "            scope: variable scope of the network\n",
    "\n",
    "            n_layers: number of hidden layers\n",
    "            size: dimension of each hidden layer\n",
    "            activation: activation of each hidden layer\n",
    "\n",
    "            output_size: size of the output layer\n",
    "            output_activation: activation of the output layer\n",
    "\n",
    "        returns: \n",
    "            output_placeholder: the result of a forward pass through the hidden layers + the output layer\n",
    "    \"\"\"\n",
    "    output_placeholder = input_placeholder\n",
    "    with tf.variable_scope(scope):\n",
    "\n",
    "        layer1 = tf.layers.dense(output_placeholder, size, activation=activation) # HINT: use tf.layers.dense (specify <input>, <size>, activation=<?>)\n",
    "        layer2 = tf.layers.dense(layer1, size, activation=activation) # HINT: use tf.layers.dense (specify <input>, <size>, activation=<?>)\n",
    "\n",
    "        output_placeholder = tf.layers.dense(output_placeholder, output_size, activation=output_activation) # HINT: use tf.layers.dense (specify <input>, <size>, activation=<?>)\n",
    "    return output_placeholder, layer1, layer2\n",
    "\n",
    "def create_tf_session(use_gpu, gpu_frac=0.6, allow_gpu_growth=True, which_gpu=0):\n",
    "    if use_gpu:\n",
    "        # gpu options\n",
    "        gpu_options = tf.GPUOptions(\n",
    "            per_process_gpu_memory_fraction=gpu_frac,\n",
    "            allow_growth=allow_gpu_growth)\n",
    "        # TF config\n",
    "        config = tf.ConfigProto(\n",
    "            gpu_options=gpu_options,\n",
    "            log_device_placement=False,\n",
    "            allow_soft_placement=True,\n",
    "            inter_op_parallelism_threads=1,\n",
    "            intra_op_parallelism_threads=1)\n",
    "        # set env variable to specify which gpu to use\n",
    "        os.environ[\"CUDA_VISIBLE_DEVICES\"] = str(which_gpu)\n",
    "    else:\n",
    "        # TF config without gpu\n",
    "        config = tf.ConfigProto(device_count={'GPU': 0})\n",
    "\n",
    "    # use config to create TF session\n",
    "    sess = tf.Session(config=config)\n",
    "    return sess"
   ]
  },
  {
   "cell_type": "code",
   "execution_count": 2,
   "metadata": {},
   "outputs": [],
   "source": [
    "ac_dim = 4\n",
    "obs_dim = 10\n",
    "n_layers = 2\n",
    "size = 64\n",
    "learning_rate = 5e-3"
   ]
  },
  {
   "cell_type": "code",
   "execution_count": 3,
   "metadata": {},
   "outputs": [],
   "source": [
    "sess = create_tf_session(False)\n",
    "\n",
    "observations_pl = tf.placeholder(shape=[None, obs_dim], name=\"ob\", dtype=tf.float32)\n",
    "\n",
    "with tf.variable_scope('policy_scope', reuse=tf.AUTO_REUSE):\n",
    "    mlp, layer1, layer2 = build_mlp(observations_pl, output_size=ac_dim, scope='discrete_logits', n_layers=n_layers, size=size)"
   ]
  },
  {
   "cell_type": "code",
   "execution_count": 4,
   "metadata": {},
   "outputs": [],
   "source": [
    "sess.run(tf.global_variables_initializer())"
   ]
  },
  {
   "cell_type": "code",
   "execution_count": 9,
   "metadata": {},
   "outputs": [
    {
     "data": {
      "text/plain": [
       "<tf.Operation 'PrintV2_3' type=PrintV2>"
      ]
     },
     "execution_count": 9,
     "metadata": {},
     "output_type": "execute_result"
    }
   ],
   "source": [
    "tf.print(layer1)"
   ]
  },
  {
   "cell_type": "code",
   "execution_count": null,
   "metadata": {},
   "outputs": [],
   "source": [
    "self.policy_vars = [v for v in tf.all_variables() if policy_scope in v.name and 'train' not in v.name]"
   ]
  }
 ],
 "metadata": {
  "kernelspec": {
   "display_name": "Python 3",
   "language": "python",
   "name": "python3"
  },
  "language_info": {
   "codemirror_mode": {
    "name": "ipython",
    "version": 3
   },
   "file_extension": ".py",
   "mimetype": "text/x-python",
   "name": "python",
   "nbconvert_exporter": "python",
   "pygments_lexer": "ipython3",
   "version": "3.5.6"
  }
 },
 "nbformat": 4,
 "nbformat_minor": 4
}
