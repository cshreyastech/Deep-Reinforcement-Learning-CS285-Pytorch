{
 "cells": [
  {
   "cell_type": "code",
   "execution_count": 1,
   "metadata": {},
   "outputs": [],
   "source": [
    "import cs285.infrastructure.torch_utils as tu"
   ]
  },
  {
   "cell_type": "code",
   "execution_count": 6,
   "metadata": {},
   "outputs": [
    {
     "data": {
      "text/plain": [
       "tensor([[0., 0., 1., 0., 0., 0., 0., 0., 0., 0.],\n",
       "        [0., 0., 0., 0., 0., 1., 0., 0., 0., 0.],\n",
       "        [0., 0., 0., 0., 0., 0., 0., 0., 1., 0.],\n",
       "        [0., 0., 0., 0., 0., 0., 0., 0., 0., 1.]])"
      ]
     },
     "execution_count": 6,
     "metadata": {},
     "output_type": "execute_result"
    }
   ],
   "source": [
    "import numpy as np\n",
    "tu.torch_one_hot(([2, 5, 8, 9]), 10)"
   ]
  },
  {
   "cell_type": "markdown",
   "metadata": {},
   "source": [
    "# "
   ]
  },
  {
   "cell_type": "code",
   "execution_count": 12,
   "metadata": {},
   "outputs": [
    {
     "data": {
      "text/plain": [
       "True"
      ]
     },
     "execution_count": 12,
     "metadata": {},
     "output_type": "execute_result"
    }
   ],
   "source": [
    "(np.array([5, 6])).dtype == int"
   ]
  },
  {
   "cell_type": "code",
   "execution_count": 7,
   "metadata": {},
   "outputs": [
    {
     "data": {
      "text/plain": [
       "torch.int64"
      ]
     },
     "execution_count": 7,
     "metadata": {},
     "output_type": "execute_result"
    }
   ],
   "source": [
    "import torch\n",
    "torch.tensor(([2, 3])).dtype"
   ]
  },
  {
   "cell_type": "code",
   "execution_count": 18,
   "metadata": {},
   "outputs": [
    {
     "data": {
      "text/plain": [
       "tensor([[16, 24],\n",
       "        [18, 27]])"
      ]
     },
     "execution_count": 18,
     "metadata": {},
     "output_type": "execute_result"
    }
   ],
   "source": [
    "torch.mm(torch.tensor([[2, 3], [1, 4]]), torch.tensor([[2, 3], [4, 6]]))"
   ]
  },
  {
   "cell_type": "code",
   "execution_count": 17,
   "metadata": {},
   "outputs": [
    {
     "data": {
      "text/plain": [
       "torch.Size([2, 2])"
      ]
     },
     "execution_count": 17,
     "metadata": {},
     "output_type": "execute_result"
    }
   ],
   "source": [
    "torch.tensor([[2, 3], [4, 6]]).shape"
   ]
  },
  {
   "cell_type": "code",
   "execution_count": 19,
   "metadata": {},
   "outputs": [
    {
     "name": "stderr",
     "output_type": "stream",
     "text": [
      "/home/oriea/anaconda3/envs/cs285_env/lib/python3.5/site-packages/google/protobuf/__init__.py:37: UserWarning: Module cs285 was already imported from None, but /home/oriea/Codes/github/Deep-Reinforcement-Learning-CS285-Pytorch/hw3 is being added to sys.path\n",
      "  __import__('pkg_resources').declare_namespace(__name__)\n"
     ]
    }
   ],
   "source": [
    "import tensorflow as tf"
   ]
  },
  {
   "cell_type": "code",
   "execution_count": 20,
   "metadata": {},
   "outputs": [],
   "source": [
    "tf.enable_eager_execution()"
   ]
  },
  {
   "cell_type": "code",
   "execution_count": 26,
   "metadata": {},
   "outputs": [
    {
     "data": {
      "text/plain": [
       "tensor([[0.6936, 0.0712, 0.8095, 0.0172, 0.7892, 0.1280, 0.2026, 0.8446, 0.2550],\n",
       "        [0.5991, 0.2025, 0.7991, 0.0635, 0.2626, 0.8791, 0.6871, 0.8760, 0.1704],\n",
       "        [0.6067, 0.6735, 0.4542, 0.0362, 0.2122, 0.2353, 0.4514, 0.9417, 0.8574],\n",
       "        [0.3180, 0.3652, 0.5514, 0.8450, 0.6952, 0.7993, 0.1970, 0.1684, 0.5111],\n",
       "        [0.0610, 0.2149, 0.4796, 0.7179, 0.7076, 0.9211, 0.2080, 0.2558, 0.8943],\n",
       "        [0.9189, 0.8685, 0.6673, 0.0049, 0.2302, 0.5325, 0.6904, 0.9929, 0.2815],\n",
       "        [0.5458, 0.9837, 0.6618, 0.0383, 0.1136, 0.5637, 0.0333, 0.3800, 0.2973],\n",
       "        [0.2037, 0.1378, 0.9002, 0.6508, 0.9897, 0.2300, 0.0427, 0.5669, 0.8646],\n",
       "        [0.2768, 0.4477, 0.9245, 0.7156, 0.7281, 0.7532, 0.8461, 0.4244, 0.3522],\n",
       "        [0.0946, 0.3554, 0.8384, 0.1400, 0.6039, 0.1758, 0.4805, 0.5082, 0.2764]])"
      ]
     },
     "execution_count": 26,
     "metadata": {},
     "output_type": "execute_result"
    }
   ],
   "source": [
    "a = torch.rand(10, 9)\n",
    "a"
   ]
  },
  {
   "cell_type": "code",
   "execution_count": 44,
   "metadata": {},
   "outputs": [
    {
     "data": {
      "text/plain": [
       "tensor([0.8446, 0.8791, 0.9417, 0.8450, 0.9211, 0.9929, 0.9837, 0.9897, 0.9245,\n",
       "        0.8384])"
      ]
     },
     "execution_count": 44,
     "metadata": {},
     "output_type": "execute_result"
    }
   ],
   "source": [
    "print\n",
    "\n",
    "c = torch.stack([torch.arange(10), torch.argmax(a, dim=1)]).numpy().tolist()\n",
    "a[c.numpy().tolist()]"
   ]
  },
  {
   "cell_type": "code",
   "execution_count": 22,
   "metadata": {},
   "outputs": [],
   "source": [
    "def gather_nd(params, indices):\n",
    "    \"\"\"params is of \"n\" dimensions and has size [x1, x2, x3, ..., xn], indices is of 2 dimensions  and has size [num_samples, m] (m <= n)\"\"\"\n",
    "    assert type(indices) == torch.Tensor\n",
    "    return params[indices.transpose(0,1).long().numpy().tolist()]"
   ]
  },
  {
   "cell_type": "code",
   "execution_count": 30,
   "metadata": {},
   "outputs": [
    {
     "data": {
      "text/plain": [
       "tensor([0.8446, 0.8791, 0.9417, 0.8450, 0.9211, 0.9929, 0.9837, 0.9897, 0.9245,\n",
       "        0.8384])"
      ]
     },
     "execution_count": 30,
     "metadata": {},
     "output_type": "execute_result"
    }
   ],
   "source": [
    "gather_nd(a, c)"
   ]
  },
  {
   "cell_type": "code",
   "execution_count": 36,
   "metadata": {},
   "outputs": [
    {
     "data": {
      "text/plain": [
       "<tf.Tensor: id=16, shape=(10,), dtype=float32, numpy=\n",
       "array([0.8445662 , 0.87912494, 0.94169116, 0.84499115, 0.9211238 ,\n",
       "       0.9928972 , 0.9837023 , 0.9897425 , 0.9244706 , 0.838392  ],\n",
       "      dtype=float32)>"
      ]
     },
     "execution_count": 36,
     "metadata": {},
     "output_type": "execute_result"
    }
   ],
   "source": [
    "tf.gather_nd(a.numpy(), c.numpy())"
   ]
  },
  {
   "cell_type": "code",
   "execution_count": null,
   "metadata": {},
   "outputs": [],
   "source": []
  }
 ],
 "metadata": {
  "kernelspec": {
   "display_name": "Python 3",
   "language": "python",
   "name": "python3"
  },
  "language_info": {
   "codemirror_mode": {
    "name": "ipython",
    "version": 3
   },
   "file_extension": ".py",
   "mimetype": "text/x-python",
   "name": "python",
   "nbconvert_exporter": "python",
   "pygments_lexer": "ipython3",
   "version": "3.5.6"
  }
 },
 "nbformat": 4,
 "nbformat_minor": 4
}
